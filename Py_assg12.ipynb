{
 "cells": [
  {
   "cell_type": "code",
   "execution_count": 1,
   "metadata": {},
   "outputs": [
    {
     "name": "stdout",
     "output_type": "stream",
     "text": [
      "[200, 198, 196, 194, 192, 190, 188, 186, 184, 182, 180, 178, 176, 174, 172, 170, 168, 166, 164, 162, 160, 158, 156, 154, 152, 150, 148, 146, 144, 142, 140, 138, 136, 134, 132, 130, 128, 126, 124, 122, 120, 118, 116, 114, 112, 110, 108, 106, 104, 102, 100]\n",
      "0     200\n",
      "1     198\n",
      "2     196\n",
      "3     194\n",
      "4     192\n",
      "5     190\n",
      "6     188\n",
      "7     186\n",
      "8     184\n",
      "9     182\n",
      "10    180\n",
      "11    178\n",
      "12    176\n",
      "13    174\n",
      "14    172\n",
      "15    170\n",
      "16    168\n",
      "17    166\n",
      "18    164\n",
      "19    162\n",
      "20    160\n",
      "21    158\n",
      "22    156\n",
      "23    154\n",
      "24    152\n",
      "25    150\n",
      "26    148\n",
      "27    146\n",
      "28    144\n",
      "29    142\n",
      "30    140\n",
      "31    138\n",
      "32    136\n",
      "33    134\n",
      "34    132\n",
      "35    130\n",
      "36    128\n",
      "37    126\n",
      "38    124\n",
      "39    122\n",
      "40    120\n",
      "41    118\n",
      "42    116\n",
      "43    114\n",
      "44    112\n",
      "45    110\n",
      "46    108\n",
      "47    106\n",
      "48    104\n",
      "49    102\n",
      "50    100\n",
      "dtype: int64\n"
     ]
    }
   ],
   "source": [
    "##1)define a series with even values from 100 to 200 in descending order\n",
    "\n",
    "import numpy as np\n",
    "\n",
    "import pandas as pd\n",
    "np_arr=np.array([i for i in range(100,201)])\n",
    "even_ctr = list(filter(lambda x: (x%2 == 0) , np_arr))\n",
    "even_ctr.reverse()\n",
    "print(even_ctr)\n",
    "s=pd.Series(even_ctr)\n",
    "print(s)"
   ]
  },
  {
   "cell_type": "code",
   "execution_count": 2,
   "metadata": {},
   "outputs": [
    {
     "name": "stdout",
     "output_type": "stream",
     "text": [
      "100    200\n",
      "101    198\n",
      "102    196\n",
      "103    194\n",
      "104    192\n",
      "105    190\n",
      "106    188\n",
      "107    186\n",
      "108    184\n",
      "109    182\n",
      "110    180\n",
      "111    178\n",
      "112    176\n",
      "113    174\n",
      "114    172\n",
      "115    170\n",
      "116    168\n",
      "117    166\n",
      "118    164\n",
      "119    162\n",
      "120    160\n",
      "121    158\n",
      "122    156\n",
      "123    154\n",
      "124    152\n",
      "125    150\n",
      "126    148\n",
      "127    146\n",
      "128    144\n",
      "129    142\n",
      "130    140\n",
      "131    138\n",
      "132    136\n",
      "133    134\n",
      "134    132\n",
      "135    130\n",
      "136    128\n",
      "137    126\n",
      "138    124\n",
      "139    122\n",
      "140    120\n",
      "141    118\n",
      "142    116\n",
      "143    114\n",
      "144    112\n",
      "145    110\n",
      "146    108\n",
      "147    106\n",
      "148    104\n",
      "149    102\n",
      "150    100\n",
      "dtype: int64\n"
     ]
    }
   ],
   "source": [
    "##2)assign index to this series starting from 100\n",
    "a=[i for i in range(100,151)]\n",
    "\n",
    "s = pd.Series(even_ctr,index=a)\n",
    "print(s)"
   ]
  },
  {
   "cell_type": "code",
   "execution_count": 3,
   "metadata": {},
   "outputs": [
    {
     "name": "stdout",
     "output_type": "stream",
     "text": [
      "          a         b         c         d         e         f\n",
      "1 -1.366547 -0.648090  0.202996  0.368316  0.945401  0.961443\n",
      "2  0.237209 -0.073086 -1.526628  0.681404  0.854315  0.069513\n",
      "3  0.672594 -0.956898 -0.841604 -0.290242  1.070221  1.180690\n",
      "4 -0.843996 -0.924488  0.401280  0.724226 -1.168700 -1.577650\n",
      "5  1.377268 -0.117707  0.611342  0.687069 -0.785167 -0.520222\n",
      "6 -0.562118 -0.966232  0.668246 -0.324666  1.373805  0.573361\n",
      "7 -1.358933  0.780733  0.585050 -0.900737 -2.583101  0.561870\n",
      "8 -0.299632  1.799237  0.335999 -0.687493 -0.494634 -0.175171\n"
     ]
    }
   ],
   "source": [
    "##3)create a dataframe of random values of shape 8*6 . Assign index as numerical values and \n",
    "#column names from a to f and using loc and iloc print values of rows 3,4 and columns b and e\n",
    "import numpy as np\n",
    "import pandas as pd\n",
    "data=pd.DataFrame(np.random.randn(8,6),index='1 2 3 4 5 6 7 8'.split(),columns='a b c d e f'.split())\n",
    "print(data)\n"
   ]
  },
  {
   "cell_type": "code",
   "execution_count": 4,
   "metadata": {},
   "outputs": [
    {
     "data": {
      "text/html": [
       "<div>\n",
       "<style scoped>\n",
       "    .dataframe tbody tr th:only-of-type {\n",
       "        vertical-align: middle;\n",
       "    }\n",
       "\n",
       "    .dataframe tbody tr th {\n",
       "        vertical-align: top;\n",
       "    }\n",
       "\n",
       "    .dataframe thead th {\n",
       "        text-align: right;\n",
       "    }\n",
       "</style>\n",
       "<table border=\"1\" class=\"dataframe\">\n",
       "  <thead>\n",
       "    <tr style=\"text-align: right;\">\n",
       "      <th></th>\n",
       "      <th>a</th>\n",
       "      <th>b</th>\n",
       "      <th>c</th>\n",
       "      <th>d</th>\n",
       "      <th>e</th>\n",
       "      <th>f</th>\n",
       "    </tr>\n",
       "  </thead>\n",
       "  <tbody>\n",
       "    <tr>\n",
       "      <td>4</td>\n",
       "      <td>-0.843996</td>\n",
       "      <td>-0.924488</td>\n",
       "      <td>0.401280</td>\n",
       "      <td>0.724226</td>\n",
       "      <td>-1.168700</td>\n",
       "      <td>-1.577650</td>\n",
       "    </tr>\n",
       "    <tr>\n",
       "      <td>5</td>\n",
       "      <td>1.377268</td>\n",
       "      <td>-0.117707</td>\n",
       "      <td>0.611342</td>\n",
       "      <td>0.687069</td>\n",
       "      <td>-0.785167</td>\n",
       "      <td>-0.520222</td>\n",
       "    </tr>\n",
       "  </tbody>\n",
       "</table>\n",
       "</div>"
      ],
      "text/plain": [
       "          a         b         c         d         e         f\n",
       "4 -0.843996 -0.924488  0.401280  0.724226 -1.168700 -1.577650\n",
       "5  1.377268 -0.117707  0.611342  0.687069 -0.785167 -0.520222"
      ]
     },
     "execution_count": 4,
     "metadata": {},
     "output_type": "execute_result"
    }
   ],
   "source": [
    "data.iloc[3:5]"
   ]
  },
  {
   "cell_type": "code",
   "execution_count": 5,
   "metadata": {},
   "outputs": [
    {
     "name": "stdout",
     "output_type": "stream",
     "text": [
      "          b         e\n",
      "1 -0.648090  0.945401\n",
      "2 -0.073086  0.854315\n",
      "3 -0.956898  1.070221\n",
      "4 -0.924488 -1.168700\n",
      "5 -0.117707 -0.785167\n",
      "6 -0.966232  1.373805\n",
      "7  0.780733 -2.583101\n",
      "8  1.799237 -0.494634\n"
     ]
    }
   ],
   "source": [
    "print(data[['b','e']])"
   ]
  },
  {
   "cell_type": "code",
   "execution_count": 6,
   "metadata": {},
   "outputs": [
    {
     "name": "stdout",
     "output_type": "stream",
     "text": [
      "[('cse', 1), ('cse', 2), ('cse', 3), ('cse', 4), ('cse', 5), ('cse', 6), ('IT', 1), ('IT', 2), ('IT', 3), ('IT', 4), ('IT', 5), ('IT', 6)]\n"
     ]
    }
   ],
   "source": [
    "##4)create a multi-index dataframe and 1st index is [\"cse\",\"IT\"] and second index is 1 to 6 numbers. \n",
    "#use 2 columns A,B and assign random values to it \n",
    "arrays = [\n",
    "          [\"cse\", \"cse\", \"cse\", \"cse\", \"cse\", \"cse\", \"IT\", \"IT\",\"IT\",\"IT\",\"IT\",\"IT\"],\n",
    "          [1, 2, 3, 4, 5, 6,1,2,3,4,5,6],\n",
    "         ]\n",
    "tuples = list(zip(*arrays))\n",
    "print(tuples)"
   ]
  },
  {
   "cell_type": "code",
   "execution_count": 7,
   "metadata": {},
   "outputs": [
    {
     "name": "stdout",
     "output_type": "stream",
     "text": [
      "MultiIndex([('cse', 1),\n",
      "            ('cse', 2),\n",
      "            ('cse', 3),\n",
      "            ('cse', 4),\n",
      "            ('cse', 5),\n",
      "            ('cse', 6),\n",
      "            ( 'IT', 1),\n",
      "            ( 'IT', 2),\n",
      "            ( 'IT', 3),\n",
      "            ( 'IT', 4),\n",
      "            ( 'IT', 5),\n",
      "            ( 'IT', 6)],\n",
      "           names=['A', 'B'])\n"
     ]
    }
   ],
   "source": [
    "import numpy as np\n",
    "import pandas as pd\n",
    "index = pd.MultiIndex.from_tuples(tuples, names=[\"A\", \"B\"])\n",
    "\n",
    "print(index)"
   ]
  },
  {
   "cell_type": "code",
   "execution_count": 8,
   "metadata": {},
   "outputs": [
    {
     "name": "stdout",
     "output_type": "stream",
     "text": [
      "A    B\n",
      "cse  1   -1.438086\n",
      "     2   -0.217105\n",
      "     3    1.868643\n",
      "     4   -0.530960\n",
      "     5   -0.322676\n",
      "     6   -0.204188\n",
      "IT   1    0.530950\n",
      "     2    1.182831\n",
      "     3   -1.115667\n",
      "     4   -1.442039\n",
      "     5    0.702458\n",
      "     6    0.325727\n",
      "dtype: float64\n"
     ]
    }
   ],
   "source": [
    "s = pd.Series(np.random.randn(12), index=index)\n",
    "print(s)"
   ]
  },
  {
   "cell_type": "code",
   "execution_count": 9,
   "metadata": {},
   "outputs": [
    {
     "data": {
      "text/plain": [
       "-0.5309597662771809"
      ]
     },
     "execution_count": 9,
     "metadata": {},
     "output_type": "execute_result"
    }
   ],
   "source": [
    "##5)print the row value of number 4 from cse\n",
    "\n",
    "s.loc[(\"cse\",4)]"
   ]
  },
  {
   "cell_type": "code",
   "execution_count": 10,
   "metadata": {},
   "outputs": [
    {
     "name": "stdout",
     "output_type": "stream",
     "text": [
      "A    B\n",
      "cse  1   -1.438086\n",
      "     2   -0.217105\n",
      "     3    1.868643\n",
      "     4   -0.530960\n",
      "     5   -0.322676\n",
      "     6   -0.204188\n",
      "IT   1    0.530950\n",
      "     2    1.182831\n",
      "     3   -1.115667\n",
      "     4   -1.442039\n",
      "     5    0.702458\n",
      "     6    0.325727\n",
      "dtype: float64\n"
     ]
    },
    {
     "data": {
      "text/plain": [
       "-1.1156666990472064"
      ]
     },
     "execution_count": 10,
     "metadata": {},
     "output_type": "execute_result"
    }
   ],
   "source": [
    "##6)print the row value of 3,5 from IT\n",
    "print(s)\n",
    "s.loc[(\"IT\",3)]\n"
   ]
  },
  {
   "cell_type": "code",
   "execution_count": 11,
   "metadata": {},
   "outputs": [
    {
     "name": "stdout",
     "output_type": "stream",
     "text": [
      "A    B\n",
      "cse  1   -1.438086\n",
      "     2   -0.217105\n",
      "     3    1.868643\n",
      "     4   -0.530960\n",
      "     5   -0.322676\n",
      "     6   -0.204188\n",
      "IT   1    0.530950\n",
      "     2    1.182831\n",
      "     3   -1.115667\n",
      "     4   -1.442039\n",
      "     5    0.702458\n",
      "     6    0.325727\n",
      "dtype: float64\n"
     ]
    },
    {
     "data": {
      "text/plain": [
       "0.7024584534819183"
      ]
     },
     "execution_count": 11,
     "metadata": {},
     "output_type": "execute_result"
    }
   ],
   "source": [
    "print(s)\n",
    "s.loc[(\"IT\",5)]"
   ]
  },
  {
   "cell_type": "code",
   "execution_count": null,
   "metadata": {},
   "outputs": [],
   "source": []
  }
 ],
 "metadata": {
  "kernelspec": {
   "display_name": "Python 3",
   "language": "python",
   "name": "python3"
  },
  "language_info": {
   "codemirror_mode": {
    "name": "ipython",
    "version": 3
   },
   "file_extension": ".py",
   "mimetype": "text/x-python",
   "name": "python",
   "nbconvert_exporter": "python",
   "pygments_lexer": "ipython3",
   "version": "3.7.4"
  }
 },
 "nbformat": 4,
 "nbformat_minor": 2
}
